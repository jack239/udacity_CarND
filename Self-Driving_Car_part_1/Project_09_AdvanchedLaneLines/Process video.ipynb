{
 "cells": [
  {
   "cell_type": "code",
   "execution_count": null,
   "metadata": {},
   "outputs": [],
   "source": [
    "import cv2\n",
    "import numpy as np\n",
    "\n",
    "import matplotlib.image as mpimg\n",
    "import matplotlib.pyplot as plt\n",
    "\n",
    "from moviepy.editor import VideoFileClip\n",
    "from IPython.display import HTML"
   ]
  },
  {
   "cell_type": "code",
   "execution_count": null,
   "metadata": {},
   "outputs": [],
   "source": [
    "from libs.common import get_images_in_dir\n",
    "from libs.calibration import CameraCalibrator\n",
    "# from libs.find_lanes import find_new_fit, get_both_fitx, get_road\n",
    "from libs.polynom_finder import  plot_poly, PolynomFinder"
   ]
  },
  {
   "cell_type": "markdown",
   "metadata": {},
   "source": [
    "### Calibrate"
   ]
  },
  {
   "cell_type": "code",
   "execution_count": null,
   "metadata": {},
   "outputs": [],
   "source": []
  },
  {
   "cell_type": "code",
   "execution_count": null,
   "metadata": {},
   "outputs": [],
   "source": [
    "calibration_data_dir = 'camera_cal/'\n",
    "\n",
    "calibrator = CameraCalibrator(9, 6)\n",
    "\n",
    "calibrate_images = get_images_in_dir(calibration_data_dir)\n",
    "used_images = []\n",
    "\n",
    "for image in calibrate_images:\n",
    "    if calibrator.calibrate(image):\n",
    "        used_images.append(image)\n",
    "\n",
    "\n",
    "calibrator.finish_calibrate()"
   ]
  },
  {
   "cell_type": "markdown",
   "metadata": {},
   "source": [
    "### Process video"
   ]
  },
  {
   "cell_type": "code",
   "execution_count": null,
   "metadata": {},
   "outputs": [],
   "source": [
    "# test_images_dir = 'test_images/'\n",
    "# def dump_image(image):\n",
    "#     mpimg.imsave(test_images_dir + \"failed3.jpg\", image)\n",
    "#     print(\"dumped\")"
   ]
  },
  {
   "cell_type": "code",
   "execution_count": null,
   "metadata": {},
   "outputs": [],
   "source": [
    "input_dir = \"videos/\"\n",
    "output_dir = \"output_videos/\"\n",
    "\n",
    "def process_file(video, finder=None):\n",
    "    if finder is None:\n",
    "        finder = PolynomFinder(calibrator)\n",
    "\n",
    "    video_in = input_dir + video\n",
    "    video_out = output_dir + video\n",
    "\n",
    "    clip1 = VideoFileClip(video_in)\n",
    "    white_clip = clip1.fl_image(finder.process_image)  # NOTE: this function expects color images!!\n",
    "    %time\n",
    "    white_clip.write_videofile(video_out, audio=False)\n",
    "\n",
    "    return HTML(\"\"\"\n",
    "        <video width=\"960\" height=\"540\" controls>\n",
    "          <source src=\"{0}\">\n",
    "        </video>\n",
    "        \"\"\".format(video_out))"
   ]
  },
  {
   "cell_type": "code",
   "execution_count": null,
   "metadata": {},
   "outputs": [],
   "source": [
    "left = [5.619491003016991e-06, -0.022389297191894888, 207.78001585426344] \n",
    "right = [-0.00017266842079864529, 0.13416494883492175, 1101.124026129575]\n",
    "pf = PolynomFinder(calibrator, left, right)\n",
    "process_file(\"project_video.mp4\", pf)"
   ]
  },
  {
   "cell_type": "code",
   "execution_count": null,
   "metadata": {
    "scrolled": true
   },
   "outputs": [],
   "source": [
    "# Find new init poly as average from previous\n",
    "def get_aver(vals):\n",
    "    dist = vals.max() - vals.min()\n",
    "    mean = vals.mean()\n",
    "    return vals[np.abs((vals - mean)) < 0.25 * dist].mean()\n",
    "\n",
    "def get_mean(polys):\n",
    "    polys = np.array(polys)\n",
    "    print()\n",
    "    return [get_aver(polys[:, i]) for i in range(3)]\n",
    "\n",
    "print(get_mean(pf.lefts), get_mean(pf.rights))"
   ]
  },
  {
   "cell_type": "code",
   "execution_count": null,
   "metadata": {},
   "outputs": [],
   "source": [
    "# fig, axes = plt.subplots(len(pf.stat), 1, figsize=(5 * len(pf.stat), 15))\n",
    "# for ax, (key, vals) in zip(axes, pf.stat.items()):\n",
    "#     ax.plot(vals, label=key)\n",
    "#     ax.legend()"
   ]
  },
  {
   "cell_type": "code",
   "execution_count": null,
   "metadata": {
    "scrolled": true
   },
   "outputs": [],
   "source": [
    "# left = [4.812023863075211e-05, -0.03276168724055028, 219.99970304556533]\n",
    "# right = [-2.293796189315271e-05, 0.050311695862751006, 1071.6601760916587]\n",
    "# pf = PolynomFinder(calibrator, left, right)\n",
    "# process_file(\"challenge_video.mp4\", pf)\n",
    "# # print(get_mean(pf.lefts), get_mean(pf.rights))"
   ]
  },
  {
   "cell_type": "code",
   "execution_count": null,
   "metadata": {},
   "outputs": [],
   "source": [
    "# left = [5.619491003016991e-06, -0.022389297191894888, 207.78001585426344] \n",
    "# right = [-0.00017266842079864529, 0.13416494883492175, 1101.124026129575]\n",
    "# pf = PolynomFinder(calibrator, left, right)\n",
    "# process_file(\"harder_challenge_video.mp4\",pf)\n",
    "# # print(get_mean(pf.lefts), get_mean(pf.rights))"
   ]
  },
  {
   "cell_type": "code",
   "execution_count": null,
   "metadata": {},
   "outputs": [],
   "source": []
  }
 ],
 "metadata": {
  "kernelspec": {
   "display_name": "Python 3",
   "language": "python",
   "name": "python3"
  },
  "language_info": {
   "codemirror_mode": {
    "name": "ipython",
    "version": 3
   },
   "file_extension": ".py",
   "mimetype": "text/x-python",
   "name": "python",
   "nbconvert_exporter": "python",
   "pygments_lexer": "ipython3",
   "version": "3.8.10"
  }
 },
 "nbformat": 4,
 "nbformat_minor": 4
}
