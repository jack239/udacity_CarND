{
 "cells": [
  {
   "cell_type": "code",
   "execution_count": null,
   "metadata": {},
   "outputs": [],
   "source": [
    "import numpy as np\n",
    "import matplotlib.pyplot as plt"
   ]
  },
  {
   "cell_type": "code",
   "execution_count": null,
   "metadata": {},
   "outputs": [],
   "source": [
    "from libs.calibration import CameraCalibrator\n",
    "from libs.common import get_images_in_dir, plot_images, get_s_channel\n",
    "from libs.filter_image import abs_sobel_thresh, mag_thresh, dir_threshold, hls_select\n",
    "from libs.find_lanes import fit_polynomial"
   ]
  },
  {
   "cell_type": "code",
   "execution_count": null,
   "metadata": {},
   "outputs": [],
   "source": [
    "# %matplotlib qt"
   ]
  },
  {
   "cell_type": "code",
   "execution_count": null,
   "metadata": {},
   "outputs": [],
   "source": [
    "calibration_data_dir = 'camera_cal/'\n",
    "\n",
    "calibrator = CameraCalibrator(9, 6)\n",
    "\n",
    "calibrate_iages = get_images_in_dir(calibration_data_dir)\n",
    "used_images = []\n",
    "\n",
    "for cal_image in calibrate_iages:\n",
    "    if calibrator.calibrate(cal_image):\n",
    "        used_images.append(cal_image)\n",
    "\n",
    "\n",
    "calibrator.finish_calibrate()"
   ]
  },
  {
   "cell_type": "code",
   "execution_count": null,
   "metadata": {},
   "outputs": [],
   "source": [
    "def transform_image(image):\n",
    "    return calibrator.process_image(image)[-1]"
   ]
  },
  {
   "cell_type": "code",
   "execution_count": null,
   "metadata": {},
   "outputs": [],
   "source": [
    "test_images_dir = 'test_images/'\n",
    "test_images = get_images_in_dir(test_images_dir)\n",
    "test_images = list(map(transform_image, test_images))\n",
    "train_image = test_images[2]"
   ]
  },
  {
   "cell_type": "code",
   "execution_count": null,
   "metadata": {},
   "outputs": [],
   "source": [
    "def check_lims(image, method, min_vals, max_vals):\n",
    "    ploty = np.array(range(image.shape[0])).astype(np.float64)\n",
    "    fig = plt.figure(figsize=[5 * len(max_vals), 5 * len(min_vals)])\n",
    "    for min_id, min_val in enumerate(min_vals):\n",
    "        images = [method(image, min_val, max_val) for max_val in max_vals]\n",
    "        axes = plot_images(fig, images, min_id, len(min_vals))\n",
    "        for img, max_val, ax in zip(images, max_vals, axes):\n",
    "            ax.set_title(\"({},{})\".format(min_val, max_val))\n",
    "            try:\n",
    "                left, right = fit_polynomial(img.astype(np.uint8))\n",
    "                ax.plot(left, ploty, \"yellow\")\n",
    "                ax.plot(right, ploty, \"yellow\")\n",
    "            except :\n",
    "                pass\n",
    "            "
   ]
  },
  {
   "cell_type": "markdown",
   "metadata": {},
   "source": [
    "### Sobol x"
   ]
  },
  {
   "cell_type": "code",
   "execution_count": null,
   "metadata": {
    "scrolled": false
   },
   "outputs": [],
   "source": [
    "check_lims(\n",
    "    get_s_channel(train_image),\n",
    "    lambda image, min_val, max_val: abs_sobel_thresh(image, orient='x', thresh_min=min_val, thresh_max=max_val, sobel_kernel=3),\n",
    "    range(4, 7, 1),\n",
    "    range(100, 255, 50),)"
   ]
  },
  {
   "cell_type": "markdown",
   "metadata": {},
   "source": [
    "### Sobol y"
   ]
  },
  {
   "cell_type": "code",
   "execution_count": null,
   "metadata": {
    "scrolled": false
   },
   "outputs": [],
   "source": [
    "check_lims(\n",
    "    get_s_channel(train_image),\n",
    "    lambda image, min_val, max_val: abs_sobel_thresh(image, orient='y', thresh_min=min_val, thresh_max=max_val),\n",
    "    range(6, 10, 1),\n",
    "    range(100, 170, 20),\n",
    ")"
   ]
  },
  {
   "cell_type": "markdown",
   "metadata": {},
   "source": [
    "### Magnitude of the Gradient"
   ]
  },
  {
   "cell_type": "code",
   "execution_count": null,
   "metadata": {
    "scrolled": false
   },
   "outputs": [],
   "source": [
    "check_lims(\n",
    "    get_s_channel(train_image),\n",
    "    lambda image, min_val, max_val: mag_thresh(image, sobel_kernel=3, mag_thresh=(min_val, max_val)),\n",
    "    range(8, 10, 1),\n",
    "    range(50, 251, 50)\n",
    ")"
   ]
  },
  {
   "cell_type": "markdown",
   "metadata": {},
   "source": [
    "### Direction of the Gradient"
   ]
  },
  {
   "cell_type": "code",
   "execution_count": null,
   "metadata": {
    "scrolled": false
   },
   "outputs": [],
   "source": [
    "check_lims(\n",
    "    get_s_channel(train_image),\n",
    "    lambda image, min_val, max_val: dir_threshold(image, sobel_kernel=7, thresh=(min_val, max_val)),\n",
    "    [0, 0.0001, 0.001,],\n",
    "    [1, 7e-1, 5e-1, 3e-1,1e-1]\n",
    ")"
   ]
  },
  {
   "cell_type": "markdown",
   "metadata": {},
   "source": [
    "### HLS"
   ]
  },
  {
   "cell_type": "code",
   "execution_count": null,
   "metadata": {
    "scrolled": false
   },
   "outputs": [],
   "source": [
    "check_lims(\n",
    "    train_image,\n",
    "    lambda image, min_val, max_val: hls_select(image, thresh=(min_val, max_val)),\n",
    "    range(80, 150, 10),\n",
    "    range(100, 255, 50)\n",
    ")"
   ]
  },
  {
   "cell_type": "markdown",
   "metadata": {},
   "source": [
    "## Combine"
   ]
  },
  {
   "cell_type": "code",
   "execution_count": null,
   "metadata": {
    "scrolled": false
   },
   "outputs": [],
   "source": [
    "sobelx = lambda img : abs_sobel_thresh(get_s_channel(img), orient='x', sobel_kernel=5, thresh_min=3, thresh_max=150)\n",
    "sobely = lambda img : abs_sobel_thresh(get_s_channel(img), orient='y', sobel_kernel=5, thresh_min=7, thresh_max=150)\n",
    "dirsobel = lambda img : dir_threshold(get_s_channel(img), sobel_kernel=3, thresh=(0, 0.3))\n",
    "def combine_or(image):\n",
    "    sybinary = sobelx(image)\n",
    "    sxbinary = sobely(image)\n",
    "    \n",
    "    combined_binary = np.zeros_like(sybinary)\n",
    "    combined_binary[(sxbinary == 1) | (sybinary == 1)] = 1\n",
    "    return combined_binary.astype(np.uint8)\n",
    "\n",
    "def combine_and(image):\n",
    "    sybinary = sobelx(image)\n",
    "    sxbinary = sobely(image)\n",
    "    \n",
    "    combined_binary = np.zeros_like(sybinary)\n",
    "    combined_binary[(sxbinary == 1) & (sybinary == 1)] = 1\n",
    "    return combined_binary.astype(np.uint8)\n",
    "\n",
    "def combine(image):    \n",
    "    sybinary = sobelx(image)\n",
    "    sxbinary = sobely(image)\n",
    "    dirbindary = dirsobel(image)\n",
    "    \n",
    "    combined_binary = np.zeros_like(sybinary)\n",
    "    combined_binary[((sxbinary == 1) | (sybinary == 1)) & (dirbindary == 1)] = 1\n",
    "    return combined_binary.astype(np.uint8)\n",
    "\n",
    "# dir_threshold(image, sobel_kernel=7, thresh=(0, 0.5))\n",
    "\n",
    "methods = [\n",
    "#     sobelx,\n",
    "#     sobely,\n",
    "#     combine_or,\n",
    "#     combine_and,\n",
    "#     dirsobel,\n",
    "    combine\n",
    "]\n",
    "\n",
    "fig = plt.figure(figsize=[5 * (len(methods) + 1), 5 * len(test_images)])\n",
    "for image_id, timage in enumerate(test_images):\n",
    "    images = [timage] + [method(timage) for method in methods]\n",
    "    axes = plot_images(fig, images, image_id, len(test_images))\n",
    "    axes[0].set_title(\"image {}\".format(image_id))\n",
    "    for img, ax in zip(images, axes):\n",
    "        if len(img.shape) == 3:\n",
    "            continue\n",
    "        left, right, *data = fit_polynomial(img.astype(np.uint8))\n",
    "        ploty = np.array(range(img.shape[0])).astype(np.float64)\n",
    "        ax.plot(left, ploty, \"yellow\")\n",
    "        ax.plot(right, ploty, \"yellow\")\n",
    "    "
   ]
  },
  {
   "cell_type": "code",
   "execution_count": null,
   "metadata": {},
   "outputs": [],
   "source": []
  },
  {
   "cell_type": "code",
   "execution_count": null,
   "metadata": {},
   "outputs": [],
   "source": []
  }
 ],
 "metadata": {
  "kernelspec": {
   "display_name": "Python 3",
   "language": "python",
   "name": "python3"
  },
  "language_info": {
   "codemirror_mode": {
    "name": "ipython",
    "version": 3
   },
   "file_extension": ".py",
   "mimetype": "text/x-python",
   "name": "python",
   "nbconvert_exporter": "python",
   "pygments_lexer": "ipython3",
   "version": "3.8.10"
  }
 },
 "nbformat": 4,
 "nbformat_minor": 4
}
