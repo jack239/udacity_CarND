{
 "cells": [
  {
   "cell_type": "code",
   "execution_count": null,
   "metadata": {},
   "outputs": [],
   "source": [
    "import matplotlib.pyplot as plt\n",
    "import numpy as np\n",
    "import cv2"
   ]
  },
  {
   "cell_type": "code",
   "execution_count": null,
   "metadata": {},
   "outputs": [],
   "source": [
    "from libs.common import get_images_in_dir, plot_images\n",
    "from libs.calibration import CameraCalibrator\n"
   ]
  },
  {
   "cell_type": "code",
   "execution_count": null,
   "metadata": {},
   "outputs": [],
   "source": [
    "# %matplotlib qt"
   ]
  },
  {
   "cell_type": "markdown",
   "metadata": {},
   "source": [
    "### Calibrate camera"
   ]
  },
  {
   "cell_type": "code",
   "execution_count": null,
   "metadata": {},
   "outputs": [],
   "source": [
    "calibration_data_dir = 'camera_cal/'\n",
    "output_dir = \"output_images/\"\n",
    "\n",
    "calibrator = CameraCalibrator(9, 6)\n",
    "\n",
    "calibrate_images = get_images_in_dir(calibration_data_dir)\n",
    "used_images = []\n",
    "\n",
    "for image in calibrate_images:\n",
    "    if calibrator.calibrate(image):\n",
    "        used_images.append(image)\n",
    "\n",
    "\n",
    "calibrator.finish_calibrate()"
   ]
  },
  {
   "cell_type": "code",
   "execution_count": null,
   "metadata": {
    "scrolled": false
   },
   "outputs": [],
   "source": [
    "target_images = calibrate_images\n",
    "\n",
    "target_images = [\n",
    "    calibrate_images[0],\n",
    "    calibrate_images[7],\n",
    "    calibrate_images[12],\n",
    "    calibrate_images[15],\n",
    "    calibrate_images[19],\n",
    "]\n",
    "fig = plt.figure(figsize=(10,5 * len(target_images)))\n",
    "for image_id, image in enumerate(target_images):\n",
    "    result = [image, calibrator.undistort(image)]\n",
    "    plot_images(fig, result, image_id, len(target_images))\n",
    "    \n",
    "# plt.savefig(output_dir + 'undistort.png')"
   ]
  },
  {
   "cell_type": "markdown",
   "metadata": {},
   "source": [
    "### Bird view"
   ]
  },
  {
   "cell_type": "code",
   "execution_count": null,
   "metadata": {},
   "outputs": [],
   "source": [
    "def transform_image(image):\n",
    "    return calibrator.process_image(image)[-1]"
   ]
  },
  {
   "cell_type": "code",
   "execution_count": null,
   "metadata": {},
   "outputs": [],
   "source": [
    "from libs.calibration import apply_shape, get_transform_dst\n"
   ]
  },
  {
   "cell_type": "code",
   "execution_count": null,
   "metadata": {},
   "outputs": [],
   "source": [
    "def get_transform_src(shape):\n",
    "    x1, x2, x3, x4 = 0.1, 0.37, 0.65, 0.95\n",
    "    y1, y2 = 0.7, 0.95\n",
    "    return apply_shape(np.array([\n",
    "        [x1, y2],\n",
    "        [x2, y1],\n",
    "        [x3, y1],\n",
    "        [x4, y2],\n",
    "    ]), shape)\n",
    "\n",
    "shape=(720, 1280)\n",
    "src = get_transform_src(shape)\n",
    "dst = get_transform_dst(shape)\n",
    "M = cv2.getPerspectiveTransform(src, dst)\n",
    "\n",
    "\n",
    "def transform(image):\n",
    "    shape = [image.shape[1], image.shape[0]]\n",
    "    return cv2.warpPerspective(image, M, shape)"
   ]
  },
  {
   "cell_type": "code",
   "execution_count": null,
   "metadata": {
    "scrolled": false
   },
   "outputs": [],
   "source": [
    "%time\n",
    "test_images_dir = 'test_images/'\n",
    "\n",
    "test_images = get_images_in_dir(test_images_dir)\n",
    "# test_images = test_images\n",
    "\n",
    "fig = plt.figure(figsize=(10, 5* len(test_images)))\n",
    "for image_id, image in enumerate(test_images):\n",
    "    undistorted = calibrator.undistort(image)\n",
    "    transformed = transform(undistorted)\n",
    "    result = [undistorted, transformed]\n",
    "    plot_images(fig, result, image_id, len(test_images))\n",
    "# plt.savefig(output_dir + 'transform.png')"
   ]
  },
  {
   "cell_type": "code",
   "execution_count": null,
   "metadata": {},
   "outputs": [],
   "source": []
  }
 ],
 "metadata": {
  "kernelspec": {
   "display_name": "Python 3",
   "language": "python",
   "name": "python3"
  },
  "language_info": {
   "codemirror_mode": {
    "name": "ipython",
    "version": 3
   },
   "file_extension": ".py",
   "mimetype": "text/x-python",
   "name": "python",
   "nbconvert_exporter": "python",
   "pygments_lexer": "ipython3",
   "version": "3.8.10"
  }
 },
 "nbformat": 4,
 "nbformat_minor": 4
}
