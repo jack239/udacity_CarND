{
 "cells": [
  {
   "cell_type": "code",
   "execution_count": null,
   "metadata": {},
   "outputs": [],
   "source": [
    "import cv2\n",
    "import numpy as np\n",
    "import matplotlib.pyplot as plt\n",
    "import matplotlib.image as mpimg"
   ]
  },
  {
   "cell_type": "code",
   "execution_count": null,
   "metadata": {},
   "outputs": [],
   "source": [
    "# %matplotlib qt\n",
    "# Plot in external window"
   ]
  },
  {
   "cell_type": "code",
   "execution_count": null,
   "metadata": {},
   "outputs": [],
   "source": [
    "from libs.common import get_images_in_dir, get_files_in_dir, plot_images, put_data\n",
    "from libs.calibration import CameraCalibrator\n",
    "from libs.filter_image import filter_image\n",
    "from libs.find_lanes import fit_polynomial, get_road, find_new_fit, get_both_fitx"
   ]
  },
  {
   "cell_type": "code",
   "execution_count": null,
   "metadata": {},
   "outputs": [],
   "source": [
    "test_images_dir = 'test_images/'\n",
    "test_images = get_images_in_dir(test_images_dir)\n",
    "image_names = list(get_files_in_dir(test_images_dir))"
   ]
  },
  {
   "cell_type": "markdown",
   "metadata": {},
   "source": [
    "## Calibrate camera"
   ]
  },
  {
   "cell_type": "markdown",
   "metadata": {},
   "source": [
    "### Calibrate"
   ]
  },
  {
   "cell_type": "code",
   "execution_count": null,
   "metadata": {},
   "outputs": [],
   "source": [
    "calibration_data_dir = 'camera_cal/'\n",
    "\n",
    "calibrator = CameraCalibrator(9, 6)\n",
    "\n",
    "calibrate_images = get_images_in_dir(calibration_data_dir)\n",
    "used_images = []\n",
    "\n",
    "for image in calibrate_images:\n",
    "    if calibrator.calibrate(image):\n",
    "        used_images.append(image)\n",
    "\n",
    "\n",
    "calibrator.finish_calibrate()"
   ]
  },
  {
   "cell_type": "code",
   "execution_count": null,
   "metadata": {},
   "outputs": [],
   "source": []
  },
  {
   "cell_type": "markdown",
   "metadata": {},
   "source": [
    "## Find lanes"
   ]
  },
  {
   "cell_type": "code",
   "execution_count": null,
   "metadata": {},
   "outputs": [],
   "source": [
    "def put_curvature_dist(image, curvature, dist):\n",
    "    cv2.putText(image, 'Curvature is {:0.0f}m'.format(curvature), (100, 100), cv2.FONT_HERSHEY_SIMPLEX, 2, (255,255,255,255), thickness=3)\n",
    "    cv2.putText(image, 'Offset is {0:0.2f}m from centre'.format(dist), (100, 160), cv2.FONT_HERSHEY_SIMPLEX, 2, (255,255,255,255), thickness=3)"
   ]
  },
  {
   "cell_type": "code",
   "execution_count": null,
   "metadata": {},
   "outputs": [],
   "source": [
    "left = [5.619491003016991e-06, -0.022389297191894888, 207.78001585426344] \n",
    "right = [-0.00017266842079864529, 0.13416494883492175, 1101.124026129575]\n",
    "def find_lanes(image):\n",
    "    left_fit, right_fit = find_new_fit(image, left, right)\n",
    "    return get_both_fitx(left_fit, right_fit, image.shape)\n"
   ]
  },
  {
   "cell_type": "code",
   "execution_count": null,
   "metadata": {
    "scrolled": false
   },
   "outputs": [],
   "source": [
    "\n",
    "fig = plt.figure(figsize=[25, 5 * len(image_names)])\n",
    "for image_id, file_name in enumerate(image_names):\n",
    "    image = mpimg.imread(file_name)\n",
    "    undistored = calibrator.undistort(image)\n",
    "    transform = calibrator.transform(undistored)\n",
    "    filtered = filter_image(transform)    \n",
    "    road_bv, data = get_road(filtered, find_lanes)\n",
    "    road = calibrator.un_transform(road_bv)\n",
    "    \n",
    "    res = cv2.addWeighted(undistored, 1, road, 0.3, 0)\n",
    "    put_data(res, data)\n",
    "    result = [image, res]  \n",
    "    axes = plot_images(fig, result, image_id, len(test_images))\n",
    "    axes[0].set_title(file_name)\n",
    "    "
   ]
  },
  {
   "cell_type": "raw",
   "metadata": {},
   "source": []
  }
 ],
 "metadata": {
  "kernelspec": {
   "display_name": "Python 3",
   "language": "python",
   "name": "python3"
  },
  "language_info": {
   "codemirror_mode": {
    "name": "ipython",
    "version": 3
   },
   "file_extension": ".py",
   "mimetype": "text/x-python",
   "name": "python",
   "nbconvert_exporter": "python",
   "pygments_lexer": "ipython3",
   "version": "3.8.10"
  }
 },
 "nbformat": 4,
 "nbformat_minor": 4
}
