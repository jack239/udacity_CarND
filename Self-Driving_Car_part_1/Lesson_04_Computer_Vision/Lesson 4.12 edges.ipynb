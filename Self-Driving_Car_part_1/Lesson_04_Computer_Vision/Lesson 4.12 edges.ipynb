{
 "cells": [
  {
   "cell_type": "code",
   "execution_count": null,
   "metadata": {},
   "outputs": [],
   "source": [
    "import matplotlib.pyplot as plt\n",
    "import matplotlib.image as mpimg\n",
    "import cv2 "
   ]
  },
  {
   "cell_type": "code",
   "execution_count": null,
   "metadata": {},
   "outputs": [],
   "source": [
    "# %matplotlib qt"
   ]
  },
  {
   "cell_type": "code",
   "execution_count": null,
   "metadata": {},
   "outputs": [],
   "source": [
    "image = mpimg.imread('data/edges.jpg')\n",
    "plt.imshow(image)"
   ]
  },
  {
   "cell_type": "code",
   "execution_count": null,
   "metadata": {},
   "outputs": [],
   "source": [
    "gray = cv2.cvtColor(image, cv2.COLOR_RGB2GRAY) #grayscale conversion\n",
    "plt.imshow(gray, cmap='gray')"
   ]
  },
  {
   "cell_type": "code",
   "execution_count": null,
   "metadata": {},
   "outputs": [],
   "source": [
    "# Define a kernel size for Gaussian smoothing / blurring\n",
    "kernel_size = 3 # Must be an odd number (3, 5, 7...)\n",
    "blur_gray = cv2.GaussianBlur(gray,(kernel_size, kernel_size),0)\n",
    "\n",
    "# Define our parameters for Canny and run it\n",
    "fig = plt.figure(figsize=[10, 10])\n",
    "low_threshold = 70\n",
    "high_threshold = 20\n",
    "lows = [20, 50, 100]\n",
    "highs = [50,100, 150, 200]\n",
    "ind = 1\n",
    "for low_threshold in lows:\n",
    "    for high_threshold in highs:\n",
    "        edges = cv2.Canny(blur_gray, low_threshold, high_threshold)\n",
    "        ax = fig.add_subplot(len(lows), len(highs), ind)\n",
    "        ind += 1\n",
    "        \n",
    "        # Display the image\n",
    "        ax.imshow(edges, cmap='Greys_r')"
   ]
  },
  {
   "cell_type": "code",
   "execution_count": null,
   "metadata": {},
   "outputs": [],
   "source": []
  }
 ],
 "metadata": {
  "kernelspec": {
   "display_name": "Python 3",
   "language": "python",
   "name": "python3"
  },
  "language_info": {
   "codemirror_mode": {
    "name": "ipython",
    "version": 3
   },
   "file_extension": ".py",
   "mimetype": "text/x-python",
   "name": "python",
   "nbconvert_exporter": "python",
   "pygments_lexer": "ipython3",
   "version": "3.8.10"
  }
 },
 "nbformat": 4,
 "nbformat_minor": 4
}
