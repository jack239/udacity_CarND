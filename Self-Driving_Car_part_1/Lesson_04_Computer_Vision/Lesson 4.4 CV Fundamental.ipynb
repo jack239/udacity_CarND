{
 "cells": [
  {
   "cell_type": "code",
   "execution_count": null,
   "metadata": {},
   "outputs": [],
   "source": [
    "import matplotlib.pyplot as plt\n",
    "import matplotlib.image as mpimg\n",
    "import numpy as np"
   ]
  },
  {
   "cell_type": "code",
   "execution_count": null,
   "metadata": {},
   "outputs": [],
   "source": [
    "# Read in the image and print out some stats\n",
    "image = mpimg.imread('data/color.jpg')\n",
    "print('This image is: ',type(image), \n",
    "         'with dimensions:', image.shape)\n",
    "\n",
    "# Grab the x and y size and make a copy of the image\n",
    "ysize = image.shape[0]\n",
    "xsize = image.shape[1]"
   ]
  },
  {
   "cell_type": "code",
   "execution_count": null,
   "metadata": {},
   "outputs": [],
   "source": [
    "\n",
    "# Note: always make a copy rather than simply using \"=\"\n",
    "color_select = np.copy(image)\n",
    "\n",
    "#  Define our color selection criteria\n",
    "# Note: if you run this code, you'll find these are not sensible values!!\n",
    "# But you'll get a chance to play with them soon in a quiz\n",
    "red_threshold = 240\n",
    "green_threshold = 220\n",
    "blue_threshold = 220\n",
    "rgb_threshold = [red_threshold, green_threshold, blue_threshold]\n",
    "rgb_threshold = [200] * 3\n",
    "# Identify pixels below the threshold\n",
    "thresholds = (image[:,:,0] < rgb_threshold[0]) \\\n",
    "            | (image[:,:,1] < rgb_threshold[1]) \\\n",
    "            | (image[:,:,2] < rgb_threshold[2])\n",
    "color_select[thresholds] = [0,0,0]\n",
    "\n",
    "# Display the image                 \n",
    "plt.imshow(color_select)\n",
    "plt.show()"
   ]
  },
  {
   "cell_type": "code",
   "execution_count": null,
   "metadata": {},
   "outputs": [],
   "source": [
    "#  Pull out the x and y sizes and make a copy of the image\n",
    "ysize = image.shape[0]\n",
    "xsize = image.shape[1]\n",
    "region_select = np.copy(color_select)\n",
    "\n",
    "# Define a triangle region of interest \n",
    "# Keep in mind the origin (x=0, y=0) is in the upper left in image processing\n",
    "# Note: if you run this code, you'll find these are not sensible values!!\n",
    "# But you'll get a chance to play with them soon in a quiz \n",
    "left_bottom = [120, 539]\n",
    "right_bottom = [800, 539]\n",
    "apex = [450, 300]\n",
    "\n",
    "# Fit lines (y=Ax+B) to identify the  3 sided region of interest\n",
    "# np.polyfit() returns the coefficients [A, B] of the fit\n",
    "fit_left = np.polyfit((left_bottom[0], apex[0]), (left_bottom[1], apex[1]), 1)\n",
    "fit_right = np.polyfit((right_bottom[0], apex[0]), (right_bottom[1], apex[1]), 1)\n",
    "fit_bottom = np.polyfit((left_bottom[0], right_bottom[0]), (left_bottom[1], right_bottom[1]), 1)\n",
    "\n",
    "# Find the region inside the lines\n",
    "XX, YY = np.meshgrid(np.arange(0, xsize), np.arange(0, ysize))\n",
    "region_thresholds = (YY > (XX*fit_left[0] + fit_left[1])) & \\\n",
    "                    (YY > (XX*fit_right[0] + fit_right[1])) & \\\n",
    "                    (YY < (XX*fit_bottom[0] + fit_bottom[1]))\n",
    "\n",
    "# Color pixels red which are inside the region of interest\n",
    "region_select[region_thresholds] = [255, 0, 0]\n",
    "\n",
    "# Display the image\n",
    "plt.imshow(region_select)\n",
    "\n",
    "# uncomment if plot does not display\n",
    "# plt.show()"
   ]
  },
  {
   "cell_type": "code",
   "execution_count": null,
   "metadata": {},
   "outputs": [],
   "source": []
  }
 ],
 "metadata": {
  "kernelspec": {
   "display_name": "Python 3",
   "language": "python",
   "name": "python3"
  },
  "language_info": {
   "codemirror_mode": {
    "name": "ipython",
    "version": 3
   },
   "file_extension": ".py",
   "mimetype": "text/x-python",
   "name": "python",
   "nbconvert_exporter": "python",
   "pygments_lexer": "ipython3",
   "version": "3.8.10"
  }
 },
 "nbformat": 4,
 "nbformat_minor": 4
}
