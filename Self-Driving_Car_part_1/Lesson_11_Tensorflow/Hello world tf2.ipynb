{
 "cells": [
  {
   "cell_type": "code",
   "execution_count": 1,
   "metadata": {},
   "outputs": [],
   "source": [
    "import tensorflow as tf"
   ]
  },
  {
   "cell_type": "code",
   "execution_count": 3,
   "metadata": {},
   "outputs": [
    {
     "name": "stdout",
     "output_type": "stream",
     "text": [
      "Hello World!\n"
     ]
    }
   ],
   "source": [
    "hello_constant = tf.constant('Hello World!')\n",
    "\n",
    "# with tf.Session() as sess:\n",
    "#     print(sess.run(hello_constant))\n",
    "\n",
    "# msg = tf.constant('Hello, TensorFlow!')\n",
    "tf.print(hello_constant)"
   ]
  },
  {
   "cell_type": "code",
   "execution_count": 7,
   "metadata": {},
   "outputs": [],
   "source": [
    "# x = tf.placeholder(tf.string)\n",
    "# y = tf.placeholder(tf.int32)\n",
    "# z = tf.placeholder(tf.float32)\n",
    "# sess =  tf.Session()\n",
    "# with tf.Session() as sess:\n",
    "#     output = sess.run(y, feed_dict={x: 'Test String', y: 123, z: 45.67})\n",
    "# print(output)\n",
    "\n",
    "x = tf.keras.Input(shape=(), dtype=tf.dtypes.string)\n",
    "y = tf.keras.Input(shape=(), dtype=tf.dtypes.int32)\n",
    "z = tf.keras.Input(shape=(), dtype=tf.dtypes.float32)\n"
   ]
  },
  {
   "cell_type": "code",
   "execution_count": 4,
   "metadata": {},
   "outputs": [
    {
     "name": "stdout",
     "output_type": "stream",
     "text": [
      "4\n"
     ]
    }
   ],
   "source": [
    "x = tf.constant(10)\n",
    "y = tf.constant(2)\n",
    "t = tf.divide(x, y)\n",
    "z = tf.subtract(tf.divide(x, y), tf.cast(tf.constant(1), tf.float64))\n",
    "# with tf.Session() as sess:\n",
    "#     output = sess.run(z)\n",
    "# print(output)\n",
    "tf.print(z)"
   ]
  },
  {
   "cell_type": "code",
   "execution_count": null,
   "metadata": {},
   "outputs": [],
   "source": []
  }
 ],
 "metadata": {
  "kernelspec": {
   "display_name": "Python 3",
   "language": "python",
   "name": "python3"
  },
  "language_info": {
   "codemirror_mode": {
    "name": "ipython",
    "version": 3
   },
   "file_extension": ".py",
   "mimetype": "text/x-python",
   "name": "python",
   "nbconvert_exporter": "python",
   "pygments_lexer": "ipython3",
   "version": "3.8.10"
  }
 },
 "nbformat": 4,
 "nbformat_minor": 4
}
