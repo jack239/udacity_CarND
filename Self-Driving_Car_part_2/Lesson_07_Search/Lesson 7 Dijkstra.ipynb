{
 "cells": [
  {
   "cell_type": "code",
   "execution_count": 1,
   "metadata": {},
   "outputs": [],
   "source": [
    "import numpy as np"
   ]
  },
  {
   "cell_type": "code",
   "execution_count": 3,
   "metadata": {},
   "outputs": [
    {
     "name": "stdout",
     "output_type": "stream",
     "text": [
      "[11, 4, 5]\n",
      "fail\n",
      "[4, 0, 4]\n",
      "fail\n"
     ]
    }
   ],
   "source": [
    "# ----------\n",
    "# User Instructions:\n",
    "# \n",
    "# Define a function, search() that returns a list\n",
    "# in the form of [optimal path length, row, col]. For\n",
    "# the grid shown below, your function should output\n",
    "# [11, 4, 5].\n",
    "#\n",
    "# If there is no valid path from the start point\n",
    "# to the goal, your function should return the string\n",
    "# 'fail'\n",
    "# ----------\n",
    "\n",
    "# Grid format:\n",
    "#   0 = Navigable space\n",
    "#   1 = Occupied space\n",
    "\n",
    "\n",
    "grid = [[0, 0, 1, 0, 0, 0],\n",
    "        [0, 0, 1, 0, 0, 0],\n",
    "        [0, 0, 0, 0, 1, 0],\n",
    "        [0, 0, 1, 1, 1, 0],\n",
    "        [0, 0, 0, 0, 1, 0]]\n",
    "init = [0, 0]\n",
    "goal = [len(grid)-1, len(grid[0])-1]\n",
    "cost = 1\n",
    "\n",
    "delta = [[-1, 0], # go up\n",
    "         [ 0,-1], # go left\n",
    "         [ 1, 0], # go down\n",
    "         [ 0, 1]] # go right\n",
    "\n",
    "delta_name = ['^', '<', 'v', '>']\n",
    "\n",
    "def search(grid,init,goal,cost):\n",
    "    # ----------------------------------------\n",
    "    # insert code here\n",
    "    # ----------------------------------------\n",
    "    init = tuple(init)\n",
    "    goal = tuple(goal)\n",
    "    stack = [init]\n",
    "    grid = np.array(grid)\n",
    "\n",
    "    costs = {\n",
    "        init : 0\n",
    "    } \n",
    "    prevs = {}\n",
    "    while stack:\n",
    "        point, stack = stack[0], stack[1:]\n",
    "        cur_cost = costs[point]\n",
    "        for d in delta:\n",
    "            x, y = point[0] + d[0], point[1] + d[1]\n",
    "            if (x < 0) or (x >= grid.shape[0]) or (y < 0) or (y >= grid.shape[1]):\n",
    "                continue\n",
    "            if grid[x][y]:\n",
    "                continue\n",
    "            new_p = (x, y)\n",
    "            if costs.get(new_p) is not None:\n",
    "                continue\n",
    "            if new_p == goal:\n",
    "                path = [goal]\n",
    "                it_point = point\n",
    "                while it_point != init and it_point is not None:\n",
    "                    it_point = prevs[it_point]\n",
    "                    path.append(it_point)\n",
    "                path = list(reversed(path))\n",
    "                print([len(path), x, y])\n",
    "            costs[new_p] = cur_cost + cost\n",
    "            stack.append((x, y))\n",
    "            prevs[(x,y)] = point\n",
    "    print(\"fail\")\n",
    "#     return \"fail\"\n",
    "print(search(grid, init, goal, cost))\n",
    "print(search([[0,0,1,0,0]], [0,0],[0,4], 1))\n",
    "print(search([[0,0,0,0,0]], [0,0],[0,4], 1))\n",
    "\n",
    "print(search([[0, 1], [0, 0]], [0,0],[1,4], 1))"
   ]
  },
  {
   "cell_type": "code",
   "execution_count": null,
   "metadata": {},
   "outputs": [],
   "source": []
  }
 ],
 "metadata": {
  "kernelspec": {
   "display_name": "Python 3",
   "language": "python",
   "name": "python3"
  },
  "language_info": {
   "codemirror_mode": {
    "name": "ipython",
    "version": 3
   },
   "file_extension": ".py",
   "mimetype": "text/x-python",
   "name": "python",
   "nbconvert_exporter": "python",
   "pygments_lexer": "ipython3",
   "version": "3.8.10"
  }
 },
 "nbformat": 4,
 "nbformat_minor": 4
}
