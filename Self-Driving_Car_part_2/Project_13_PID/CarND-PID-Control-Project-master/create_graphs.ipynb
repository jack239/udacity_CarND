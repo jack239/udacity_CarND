{
 "cells": [
  {
   "cell_type": "code",
   "execution_count": 9,
   "metadata": {},
   "outputs": [],
   "source": [
    "import os\n",
    "import json\n",
    "import numpy as np\n",
    "import matplotlib.pyplot as plt"
   ]
  },
  {
   "cell_type": "code",
   "execution_count": 10,
   "metadata": {},
   "outputs": [],
   "source": [
    "%matplotlib qt"
   ]
  },
  {
   "cell_type": "code",
   "execution_count": 19,
   "metadata": {},
   "outputs": [],
   "source": [
    "image_dir = \"images/\"\n",
    "def get_targets(prefix):\n",
    "    ax = plt.figure().gca()\n",
    "    files = []\n",
    "    \n",
    "    for file_name in os.listdir(image_dir):\n",
    "        if \"png\" in file_name:\n",
    "            continue\n",
    "        if prefix in file_name:\n",
    "            label = file_name.split(\"_\")[2]\n",
    "            files.append((float(label), file_name))\n",
    "    files.sort()\n",
    "    for label, file_name in reversed(files):\n",
    "        label = str(label)\n",
    "        js_data = json.load(open(image_dir + file_name))\n",
    "        ax.plot(range(len(js_data)), js_data, label=label)\n",
    "        np_data = np.array(js_data)\n",
    "        print(label, (np_data ** 2).sum() / np_data.shape[0])\n",
    "    ax.set_title(prefix)\n",
    "            \n",
    "    ax.legend(loc='upper left')\n",
    "    plt.show()\n",
    "    plt.savefig(image_dir + prefix + \".png\")"
   ]
  },
  {
   "cell_type": "code",
   "execution_count": 18,
   "metadata": {},
   "outputs": [
    {
     "name": "stdout",
     "output_type": "stream",
     "text": [
      "['P', 'controller', '0.250000', '.json']\n",
      "['P', 'controller', '0.500000', '.json']\n",
      "['P', 'controller', '0.125000', '.json']\n",
      "['P', 'controller', '1.000000', '.json']\n",
      "1.0 24.640069329459998\n",
      "0.5 13.855149171860003\n",
      "0.25 5.4801520099199985\n",
      "0.125 6.1126786527200005\n"
     ]
    }
   ],
   "source": [
    "get_targets('P_controller')"
   ]
  },
  {
   "cell_type": "code",
   "execution_count": 5,
   "metadata": {},
   "outputs": [
    {
     "name": "stdout",
     "output_type": "stream",
     "text": [
      "1.0 0.37526762331999997\n",
      "2.0 0.17335336168999999\n",
      "4.0 0.15891986943\n",
      "8.0 0.23274961222999999\n"
     ]
    }
   ],
   "source": [
    "get_targets('PD_controller')"
   ]
  },
  {
   "cell_type": "code",
   "execution_count": 20,
   "metadata": {},
   "outputs": [
    {
     "name": "stdout",
     "output_type": "stream",
     "text": [
      "0.5 4.1245512097\n",
      "0.25 3.6110190924\n",
      "0.125 2.6080680831999996\n",
      "0.0625 3.3437437996\n",
      "0.02 0.21652225443\n",
      "0.01 0.16868612533000002\n",
      "0.005 0.125064864\n"
     ]
    }
   ],
   "source": [
    "get_targets('PID_controller')"
   ]
  },
  {
   "cell_type": "code",
   "execution_count": null,
   "metadata": {},
   "outputs": [],
   "source": []
  }
 ],
 "metadata": {
  "kernelspec": {
   "display_name": "Python 3",
   "language": "python",
   "name": "python3"
  },
  "language_info": {
   "codemirror_mode": {
    "name": "ipython",
    "version": 3
   },
   "file_extension": ".py",
   "mimetype": "text/x-python",
   "name": "python",
   "nbconvert_exporter": "python",
   "pygments_lexer": "ipython3",
   "version": "3.8.10"
  }
 },
 "nbformat": 4,
 "nbformat_minor": 4
}
