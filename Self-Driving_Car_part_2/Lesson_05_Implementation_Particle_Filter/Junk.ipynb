{
 "cells": [
  {
   "cell_type": "code",
   "execution_count": null,
   "metadata": {},
   "outputs": [],
   "source": [
    "import numpy as np"
   ]
  },
  {
   "cell_type": "code",
   "execution_count": null,
   "metadata": {},
   "outputs": [],
   "source": [
    "def transform(x, y):\n",
    "    theta = - 0.5 * np.pi\n",
    "    c = np.cos(theta)\n",
    "    s = np.sin(theta)\n",
    "#     c = s = 0\n",
    "    car_x = 4\n",
    "    car_y = 5\n",
    "    v = np.array([[x, y, 1]])\n",
    "    tr = np.array([\n",
    "        [c, s, car_x],\n",
    "        [-s, c, car_y]\n",
    "    ])\n",
    "    return v.dot(tr.T)\n",
    "transform(2, 2)"
   ]
  },
  {
   "cell_type": "code",
   "execution_count": null,
   "metadata": {},
   "outputs": [],
   "source": []
  }
 ],
 "metadata": {
  "kernelspec": {
   "display_name": "Python 3",
   "language": "python",
   "name": "python3"
  },
  "language_info": {
   "codemirror_mode": {
    "name": "ipython",
    "version": 3
   },
   "file_extension": ".py",
   "mimetype": "text/x-python",
   "name": "python",
   "nbconvert_exporter": "python",
   "pygments_lexer": "ipython3",
   "version": "3.8.10"
  }
 },
 "nbformat": 4,
 "nbformat_minor": 4
}
